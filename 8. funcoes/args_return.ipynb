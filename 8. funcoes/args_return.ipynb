{
 "cells": [
  {
   "cell_type": "markdown",
   "metadata": {},
   "source": [
    "<b>Argumentos Posicionais X nomeados</b>\n",
    "\n",
    "Argumentos posicionais são passados na ordem em que são declarados na função. Argumentos nomeados são passados pelo nome do argumento"
   ]
  },
  {
   "cell_type": "code",
   "execution_count": 29,
   "metadata": {},
   "outputs": [],
   "source": [
    "def dados_pessoais(nome, sobrenome, idade, sexo):\n",
    "    print(f\"\\nNome: {nome};\\nSobrenome: {sobrenome};\\nIdade: {idade};\\nSexo: {sexo}\")"
   ]
  },
  {
   "cell_type": "code",
   "execution_count": 30,
   "metadata": {},
   "outputs": [
    {
     "name": "stdout",
     "output_type": "stream",
     "text": [
      "\n",
      "Nome: João;\n",
      "Sobrenome: Silva;\n",
      "Idade: 30;\n",
      "Sexo: True\n"
     ]
    }
   ],
   "source": [
    "# posicional\n",
    "dados_pessoais('João', 'Silva', 30, True)"
   ]
  },
  {
   "cell_type": "code",
   "execution_count": 31,
   "metadata": {},
   "outputs": [
    {
     "name": "stdout",
     "output_type": "stream",
     "text": [
      "\n",
      "Nome: True;\n",
      "Sobrenome: João;\n",
      "Idade: 30;\n",
      "Sexo: Silva\n",
      "\n",
      "Nome: João;\n",
      "Sobrenome: Silva;\n",
      "Idade: 30;\n",
      "Sexo: True\n"
     ]
    }
   ],
   "source": [
    "# se mudar a ordem\n",
    "dados_pessoais(True, 'João', 30, 'Silva')\n",
    "\n",
    "# nomeado\n",
    "dados_pessoais(sexo=True, nome='João',\n",
    "               idade=30, sobrenome='Silva')"
   ]
  },
  {
   "cell_type": "code",
   "execution_count": 32,
   "metadata": {},
   "outputs": [
    {
     "name": "stdout",
     "output_type": "stream",
     "text": [
      "\n",
      "Nome: João;\n",
      "Sobrenome: Silva;\n",
      "Idade: 30;\n",
      "Sexo: True\n"
     ]
    }
   ],
   "source": [
    "# se for misturar, posicionais primeiro e nomeados depois\n",
    "dados_pessoais('João', 'Silva', sexo=True, idade=30)"
   ]
  }
 ],
 "metadata": {
  "kernelspec": {
   "display_name": "Python 3",
   "language": "python",
   "name": "python3"
  },
  "language_info": {
   "codemirror_mode": {
    "name": "ipython",
    "version": 3
   },
   "file_extension": ".py",
   "mimetype": "text/x-python",
   "name": "python",
   "nbconvert_exporter": "python",
   "pygments_lexer": "ipython3",
   "version": "3.10.12"
  }
 },
 "nbformat": 4,
 "nbformat_minor": 2
}
