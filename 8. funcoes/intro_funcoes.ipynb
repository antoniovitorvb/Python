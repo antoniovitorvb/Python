{
 "cells": [
  {
   "cell_type": "markdown",
   "metadata": {},
   "source": [
    "[Função Vs. Método](https://hub.asimov.academy/tutorial/funcao-vs-metodo-em-python-entendendo-as-diferencas/)\n",
    "\n",
    "Ambos têm escopo fechado, podem receber parâmetros e após executar as instruções o cursor volta pra onde parou.\n",
    "\n",
    "Mas função é um bloco de código reutilizável que retorna um valor, enquanto método é uma função que é associada a um objeto sem retornar valores."
   ]
  },
  {
   "cell_type": "code",
   "execution_count": 1,
   "metadata": {},
   "outputs": [],
   "source": [
    "def minha_func():\n",
    "    print('fala galera!')"
   ]
  },
  {
   "cell_type": "code",
   "execution_count": 2,
   "metadata": {},
   "outputs": [
    {
     "name": "stdout",
     "output_type": "stream",
     "text": [
      "fala galera!\n"
     ]
    }
   ],
   "source": [
    "minha_func()"
   ]
  },
  {
   "cell_type": "markdown",
   "metadata": {},
   "source": [
    "<b> Parâmetros de função</b>\n",
    "\n",
    "é uma variável declarada entre os parêntesis de uma função e que só existe dentro do escopo da função."
   ]
  },
  {
   "cell_type": "code",
   "execution_count": 3,
   "metadata": {},
   "outputs": [],
   "source": [
    "def soma(a, b):\n",
    "    total = a + b\n",
    "    print('a + b =', total)"
   ]
  },
  {
   "cell_type": "code",
   "execution_count": 4,
   "metadata": {},
   "outputs": [
    {
     "name": "stdout",
     "output_type": "stream",
     "text": [
      "a + b = 4\n"
     ]
    }
   ],
   "source": [
    "soma(1, 3)"
   ]
  },
  {
   "cell_type": "markdown",
   "metadata": {},
   "source": [
    "parâmetros default (pré-definidos)"
   ]
  },
  {
   "cell_type": "code",
   "execution_count": 5,
   "metadata": {},
   "outputs": [],
   "source": [
    "def login(user = 'root', senha='123'):\n",
    "    print('user:', user)\n",
    "    print('senha:', senha)"
   ]
  },
  {
   "cell_type": "code",
   "execution_count": 6,
   "metadata": {},
   "outputs": [
    {
     "name": "stdout",
     "output_type": "stream",
     "text": [
      "user: root\n",
      "senha: 123\n"
     ]
    }
   ],
   "source": [
    "login()"
   ]
  },
  {
   "cell_type": "code",
   "execution_count": 7,
   "metadata": {},
   "outputs": [
    {
     "name": "stdout",
     "output_type": "stream",
     "text": [
      "user: Joao\n",
      "senha: 123\n"
     ]
    }
   ],
   "source": [
    "login('Joao')"
   ]
  },
  {
   "cell_type": "code",
   "execution_count": 8,
   "metadata": {},
   "outputs": [
    {
     "name": "stdout",
     "output_type": "stream",
     "text": [
      "user: joao\n",
      "senha: 123456\n"
     ]
    }
   ],
   "source": [
    "login('joao', 123456)"
   ]
  },
  {
   "cell_type": "code",
   "execution_count": 9,
   "metadata": {},
   "outputs": [
    {
     "name": "stdout",
     "output_type": "stream",
     "text": [
      "user: root\n",
      "senha: 654321\n"
     ]
    }
   ],
   "source": [
    "login(senha=654321)"
   ]
  },
  {
   "cell_type": "code",
   "execution_count": 10,
   "metadata": {},
   "outputs": [],
   "source": [
    "def login2(os, user='root', pwd='123'):\n",
    "    '''\n",
    "    parâmetros sem valor default devem sempre\n",
    "    ir na frente dos parâmetros com default\n",
    "    '''\n",
    "    print('OS:', os)\n",
    "    print('user:', user)\n",
    "    print('senha:', pwd)"
   ]
  },
  {
   "cell_type": "code",
   "execution_count": 11,
   "metadata": {},
   "outputs": [
    {
     "ename": "TypeError",
     "evalue": "login2() missing 1 required positional argument: 'os'",
     "output_type": "error",
     "traceback": [
      "\u001b[0;31m---------------------------------------------------------------------------\u001b[0m",
      "\u001b[0;31mTypeError\u001b[0m                                 Traceback (most recent call last)",
      "Cell \u001b[0;32mIn[11], line 1\u001b[0m\n\u001b[0;32m----> 1\u001b[0m \u001b[43mlogin2\u001b[49m\u001b[43m(\u001b[49m\u001b[43m)\u001b[49m\n",
      "\u001b[0;31mTypeError\u001b[0m: login2() missing 1 required positional argument: 'os'"
     ]
    }
   ],
   "source": [
    "login2()"
   ]
  }
 ],
 "metadata": {
  "kernelspec": {
   "display_name": "Python 3",
   "language": "python",
   "name": "python3"
  },
  "language_info": {
   "codemirror_mode": {
    "name": "ipython",
    "version": 3
   },
   "file_extension": ".py",
   "mimetype": "text/x-python",
   "name": "python",
   "nbconvert_exporter": "python",
   "pygments_lexer": "ipython3",
   "version": "3.10.12"
  }
 },
 "nbformat": 4,
 "nbformat_minor": 2
}
