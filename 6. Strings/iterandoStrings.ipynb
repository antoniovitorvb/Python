{
 "cells": [
  {
   "cell_type": "markdown",
   "metadata": {},
   "source": [
    "Exemplo 1:"
   ]
  },
  {
   "cell_type": "code",
   "execution_count": 1,
   "metadata": {},
   "outputs": [
    {
     "name": "stdout",
     "output_type": "stream",
     "text": [
      "Iterando strings\n",
      "I\n",
      "t\n",
      "e\n",
      "r\n",
      "a\n",
      "n\n",
      "d\n",
      "o\n",
      " \n",
      "s\n",
      "t\n",
      "r\n",
      "i\n",
      "n\n",
      "g\n",
      "s\n"
     ]
    }
   ],
   "source": [
    "s = 'Iterando strings'\n",
    "print(s)\n",
    "\n",
    "for c in s:\n",
    "    print(c)"
   ]
  },
  {
   "cell_type": "markdown",
   "metadata": {},
   "source": [
    "Exemplo 2:"
   ]
  },
  {
   "cell_type": "code",
   "execution_count": 2,
   "metadata": {},
   "outputs": [
    {
     "name": "stdout",
     "output_type": "stream",
     "text": [
      "0 I\n",
      "1 t\n",
      "2 e\n",
      "3 r\n",
      "4 a\n",
      "5 n\n",
      "6 d\n",
      "7 o\n",
      "8  \n",
      "9 s\n",
      "10 t\n",
      "11 r\n",
      "12 i\n",
      "13 n\n",
      "14 g\n",
      "15 s\n"
     ]
    }
   ],
   "source": [
    "i = 0\n",
    "\n",
    "while i < len(s):\n",
    "    print(i, s[i])\n",
    "    i+=1"
   ]
  },
  {
   "cell_type": "markdown",
   "metadata": {},
   "source": [
    "Exemplo 3:\n",
    "\n",
    "A função enumerate retorna um dicionário com um índice como chave e o valor da lista "
   ]
  },
  {
   "cell_type": "code",
   "execution_count": 5,
   "metadata": {},
   "outputs": [
    {
     "name": "stdout",
     "output_type": "stream",
     "text": [
      "0 I\n",
      "1 t\n",
      "2 e\n",
      "3 r\n",
      "4 a\n",
      "5 n\n",
      "6 d\n",
      "7 o\n",
      "8  \n",
      "9 s\n",
      "10 t\n",
      "11 r\n",
      "12 i\n",
      "13 n\n",
      "14 g\n",
      "15 s\n",
      "<class 'enumerate'>\n"
     ]
    },
    {
     "data": {
      "text/plain": [
       "{0: 'I',\n",
       " 1: 't',\n",
       " 2: 'e',\n",
       " 3: 'r',\n",
       " 4: 'a',\n",
       " 5: 'n',\n",
       " 6: 'd',\n",
       " 7: 'o',\n",
       " 8: ' ',\n",
       " 9: 's',\n",
       " 10: 't',\n",
       " 11: 'r',\n",
       " 12: 'i',\n",
       " 13: 'n',\n",
       " 14: 'g',\n",
       " 15: 's'}"
      ]
     },
     "execution_count": 5,
     "metadata": {},
     "output_type": "execute_result"
    }
   ],
   "source": [
    "for k, v in enumerate(s):\n",
    "    print(k, v)\n",
    "\n",
    "print(type(enumerate(s)))\n",
    "dict(enumerate(s))"
   ]
  }
 ],
 "metadata": {
  "kernelspec": {
   "display_name": "Python 3",
   "language": "python",
   "name": "python3"
  },
  "language_info": {
   "codemirror_mode": {
    "name": "ipython",
    "version": 3
   },
   "file_extension": ".py",
   "mimetype": "text/x-python",
   "name": "python",
   "nbconvert_exporter": "python",
   "pygments_lexer": "ipython3",
   "version": "3.10.12"
  }
 },
 "nbformat": 4,
 "nbformat_minor": 2
}
